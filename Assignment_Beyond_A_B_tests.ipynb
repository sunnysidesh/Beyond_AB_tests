{
  "nbformat": 4,
  "nbformat_minor": 0,
  "metadata": {
    "colab": {
      "name": "Assignment_Beyond A/B tests.ipynb",
      "provenance": []
    },
    "kernelspec": {
      "name": "python3",
      "display_name": "Python 3"
    }
  },
  "cells": [
    {
      "cell_type": "code",
      "metadata": {
        "id": "Wn3dYvZSpQSy",
        "colab_type": "code",
        "colab": {}
      },
      "source": [
        "%matplotlib inline\n",
        "import pandas as pd\n",
        "import numpy as np\n",
        "import matplotlib.pyplot as plt\n",
        "import scipy.stats as stats"
      ],
      "execution_count": 0,
      "outputs": []
    },
    {
      "cell_type": "code",
      "metadata": {
        "id": "DFozv_UWpTtQ",
        "colab_type": "code",
        "colab": {
          "base_uri": "https://localhost:8080/",
          "height": 510
        },
        "outputId": "4725c9d7-8edf-44ad-f842-9986a841bd2f"
      },
      "source": [
        "ess_combined = pd.read_csv(\"https://tf-assets-prod.s3.amazonaws.com/tf-curric/data-science/ess_combined_2012_2014.csv\")\n",
        "ess_combined.info()\n",
        "ess_combined.head()"
      ],
      "execution_count": 3,
      "outputs": [
        {
          "output_type": "stream",
          "text": [
            "<class 'pandas.core.frame.DataFrame'>\n",
            "RangeIndex: 8147 entries, 0 to 8146\n",
            "Data columns (total 13 columns):\n",
            "cntry      8147 non-null object\n",
            "idno       8147 non-null int64\n",
            "year       8147 non-null int64\n",
            "tvtot      8147 non-null int64\n",
            "ppltrst    8147 non-null int64\n",
            "pplfair    8147 non-null int64\n",
            "pplhlp     8147 non-null int64\n",
            "happy      8147 non-null int64\n",
            "sclmeet    8147 non-null int64\n",
            "sclact     8147 non-null int64\n",
            "gndr       8147 non-null int64\n",
            "agea       8147 non-null int64\n",
            "partner    8147 non-null int64\n",
            "dtypes: int64(12), object(1)\n",
            "memory usage: 827.6+ KB\n"
          ],
          "name": "stdout"
        },
        {
          "output_type": "execute_result",
          "data": {
            "text/html": [
              "<div>\n",
              "<style scoped>\n",
              "    .dataframe tbody tr th:only-of-type {\n",
              "        vertical-align: middle;\n",
              "    }\n",
              "\n",
              "    .dataframe tbody tr th {\n",
              "        vertical-align: top;\n",
              "    }\n",
              "\n",
              "    .dataframe thead th {\n",
              "        text-align: right;\n",
              "    }\n",
              "</style>\n",
              "<table border=\"1\" class=\"dataframe\">\n",
              "  <thead>\n",
              "    <tr style=\"text-align: right;\">\n",
              "      <th></th>\n",
              "      <th>cntry</th>\n",
              "      <th>idno</th>\n",
              "      <th>year</th>\n",
              "      <th>tvtot</th>\n",
              "      <th>ppltrst</th>\n",
              "      <th>pplfair</th>\n",
              "      <th>pplhlp</th>\n",
              "      <th>happy</th>\n",
              "      <th>sclmeet</th>\n",
              "      <th>sclact</th>\n",
              "      <th>gndr</th>\n",
              "      <th>agea</th>\n",
              "      <th>partner</th>\n",
              "    </tr>\n",
              "  </thead>\n",
              "  <tbody>\n",
              "    <tr>\n",
              "      <th>0</th>\n",
              "      <td>CH</td>\n",
              "      <td>5</td>\n",
              "      <td>6</td>\n",
              "      <td>3</td>\n",
              "      <td>3</td>\n",
              "      <td>10</td>\n",
              "      <td>5</td>\n",
              "      <td>8</td>\n",
              "      <td>5</td>\n",
              "      <td>4</td>\n",
              "      <td>2</td>\n",
              "      <td>60</td>\n",
              "      <td>1</td>\n",
              "    </tr>\n",
              "    <tr>\n",
              "      <th>1</th>\n",
              "      <td>CH</td>\n",
              "      <td>25</td>\n",
              "      <td>6</td>\n",
              "      <td>6</td>\n",
              "      <td>5</td>\n",
              "      <td>7</td>\n",
              "      <td>5</td>\n",
              "      <td>9</td>\n",
              "      <td>3</td>\n",
              "      <td>2</td>\n",
              "      <td>2</td>\n",
              "      <td>59</td>\n",
              "      <td>1</td>\n",
              "    </tr>\n",
              "    <tr>\n",
              "      <th>2</th>\n",
              "      <td>CH</td>\n",
              "      <td>26</td>\n",
              "      <td>6</td>\n",
              "      <td>1</td>\n",
              "      <td>8</td>\n",
              "      <td>8</td>\n",
              "      <td>8</td>\n",
              "      <td>7</td>\n",
              "      <td>6</td>\n",
              "      <td>3</td>\n",
              "      <td>1</td>\n",
              "      <td>24</td>\n",
              "      <td>2</td>\n",
              "    </tr>\n",
              "    <tr>\n",
              "      <th>3</th>\n",
              "      <td>CH</td>\n",
              "      <td>28</td>\n",
              "      <td>6</td>\n",
              "      <td>4</td>\n",
              "      <td>6</td>\n",
              "      <td>6</td>\n",
              "      <td>7</td>\n",
              "      <td>10</td>\n",
              "      <td>6</td>\n",
              "      <td>2</td>\n",
              "      <td>2</td>\n",
              "      <td>64</td>\n",
              "      <td>1</td>\n",
              "    </tr>\n",
              "    <tr>\n",
              "      <th>4</th>\n",
              "      <td>CH</td>\n",
              "      <td>29</td>\n",
              "      <td>6</td>\n",
              "      <td>5</td>\n",
              "      <td>6</td>\n",
              "      <td>7</td>\n",
              "      <td>5</td>\n",
              "      <td>8</td>\n",
              "      <td>7</td>\n",
              "      <td>2</td>\n",
              "      <td>2</td>\n",
              "      <td>55</td>\n",
              "      <td>1</td>\n",
              "    </tr>\n",
              "  </tbody>\n",
              "</table>\n",
              "</div>"
            ],
            "text/plain": [
              "  cntry  idno  year  tvtot  ppltrst  ...  sclmeet  sclact  gndr  agea  partner\n",
              "0    CH     5     6      3        3  ...        5       4     2    60        1\n",
              "1    CH    25     6      6        5  ...        3       2     2    59        1\n",
              "2    CH    26     6      1        8  ...        6       3     1    24        2\n",
              "3    CH    28     6      4        6  ...        6       2     2    64        1\n",
              "4    CH    29     6      5        6  ...        7       2     2    55        1\n",
              "\n",
              "[5 rows x 13 columns]"
            ]
          },
          "metadata": {
            "tags": []
          },
          "execution_count": 3
        }
      ]
    },
    {
      "cell_type": "code",
      "metadata": {
        "id": "xyEtIgUppTvf",
        "colab_type": "code",
        "colab": {
          "base_uri": "https://localhost:8080/",
          "height": 289
        },
        "outputId": "2df8e12b-45ef-4f2d-bdfd-9bdb5571a535"
      },
      "source": [
        "# Split into 2 DataFrames for ease of analysis\n",
        "\n",
        "ess_2012 = ess_combined[ess_combined['year']==6]\n",
        "\n",
        "ess_2014 = ess_combined[ess_combined['year']==7]\n",
        "\n",
        "print(ess_2012.head())\n",
        "print(ess_2014.head())"
      ],
      "execution_count": 4,
      "outputs": [
        {
          "output_type": "stream",
          "text": [
            "  cntry  idno  year  tvtot  ppltrst  ...  sclmeet  sclact  gndr  agea  partner\n",
            "0    CH     5     6      3        3  ...        5       4     2    60        1\n",
            "1    CH    25     6      6        5  ...        3       2     2    59        1\n",
            "2    CH    26     6      1        8  ...        6       3     1    24        2\n",
            "3    CH    28     6      4        6  ...        6       2     2    64        1\n",
            "4    CH    29     6      5        6  ...        7       2     2    55        1\n",
            "\n",
            "[5 rows x 13 columns]\n",
            "    cntry  idno  year  tvtot  ppltrst  ...  sclmeet  sclact  gndr  agea  partner\n",
            "732    CH     5     7      2        8  ...        6       4     1    69        1\n",
            "733    CH    25     7      4        4  ...        5       3     1    30        1\n",
            "734    CH    26     7      3        8  ...        7       5     2    49        2\n",
            "735    CH    28     7      2        7  ...        6       2     1    51        1\n",
            "736    CH    29     7      2        4  ...        6       2     2    32        2\n",
            "\n",
            "[5 rows x 13 columns]\n"
          ],
          "name": "stdout"
        }
      ]
    },
    {
      "cell_type": "code",
      "metadata": {
        "id": "BuGBhGA9pTx_",
        "colab_type": "code",
        "colab": {
          "base_uri": "https://localhost:8080/",
          "height": 299
        },
        "outputId": "f622fa98-bd22-4551-b6e8-87c71e725263"
      },
      "source": [
        "# 1. Did people become less trusting from 2012 to 2014?\n",
        "\n",
        "plt.hist(ess_2012['ppltrst'], alpha = .5)\n",
        "plt.hist(ess_2014['ppltrst'], alpha = .5)\n",
        "\n",
        "# Remember that Shapiro test is sensitive to large samples. \n",
        "\n",
        "stats.shapiro(ess_2012['ppltrst'])\n",
        "stats.shapiro(ess_2014['ppltrst'])\n",
        "\n",
        "print(stats.describe(ess_2012['ppltrst']))\n",
        "print(stats.describe(ess_2014['ppltrst']))"
      ],
      "execution_count": 5,
      "outputs": [
        {
          "output_type": "stream",
          "text": [
            "DescribeResult(nobs=4071, minmax=(0, 10), mean=5.578481945467944, variance=4.893040545067073, skewness=-0.5431086926347095, kurtosis=-0.1210956960964813)\n",
            "DescribeResult(nobs=4076, minmax=(0, 10), mean=5.5713935230618254, variance=4.927171652708959, skewness=-0.4601859476512641, kurtosis=-0.25006786100787215)\n"
          ],
          "name": "stdout"
        },
        {
          "output_type": "display_data",
          "data": {
            "image/png": "[encoded data removed]",
            "text/plain": [
              "<Figure size 432x288 with 1 Axes>"
            ]
          },
          "metadata": {
            "tags": []
          }
        }
      ]
    },
    {
      "cell_type": "code",
      "metadata": {
        "id": "_WgFT_COpT0Z",
        "colab_type": "code",
        "colab": {
          "base_uri": "https://localhost:8080/",
          "height": 34
        },
        "outputId": "55e6078b-a469-480c-c984-9a42094f2fd7"
      },
      "source": [
        "stats.ttest_ind(ess_2012['ppltrst'], ess_2014['ppltrst'])\n",
        "\n",
        "# There is no significant difference in trust between 2012 to 2014"
      ],
      "execution_count": 6,
      "outputs": [
        {
          "output_type": "execute_result",
          "data": {
            "text/plain": [
              "Ttest_indResult(statistic=0.1443685081969842, pvalue=0.8852130548889106)"
            ]
          },
          "metadata": {
            "tags": []
          },
          "execution_count": 6
        }
      ]
    },
    {
      "cell_type": "code",
      "metadata": {
        "id": "JKkqw4BvpT22",
        "colab_type": "code",
        "colab": {
          "base_uri": "https://localhost:8080/",
          "height": 299
        },
        "outputId": "4a57ea41-2a8b-4620-8f0b-c8180a2d41ed"
      },
      "source": [
        "# 2. Did people become happier from 2012 to 2014?\n",
        "\n",
        "plt.hist(ess_2012['happy'], alpha = .5)\n",
        "plt.hist(ess_2014['happy'], alpha = .5)\n",
        "\n",
        "print(stats.describe(ess_2012['happy']))\n",
        "print(stats.describe(ess_2014['happy']))"
      ],
      "execution_count": 8,
      "outputs": [
        {
          "output_type": "stream",
          "text": [
            "DescribeResult(nobs=4071, minmax=(0, 10), mean=7.731515598133137, variance=3.0819524689826823, skewness=-1.1505518232802756, kurtosis=1.9055890346061979)\n",
            "DescribeResult(nobs=4076, minmax=(0, 10), mean=7.6854759568204125, variance=2.840436853164115, skewness=-1.0296465664009635, kurtosis=1.5218046596567287)\n"
          ],
          "name": "stdout"
        },
        {
          "output_type": "display_data",
          "data": {
            "image/png": "[encoded data removed]",
            "text/plain": [
              "<Figure size 432x288 with 1 Axes>"
            ]
          },
          "metadata": {
            "tags": []
          }
        }
      ]
    },
    {
      "cell_type": "code",
      "metadata": {
        "id": "xsr15F96pT5X",
        "colab_type": "code",
        "colab": {
          "base_uri": "https://localhost:8080/",
          "height": 34
        },
        "outputId": "4c8cca9e-3a45-43b5-d6a1-a33e414db0d3"
      },
      "source": [
        "stats.kruskal(\n",
        "    ess_2012['happy'],\n",
        "    ess_2014['happy'])"
      ],
      "execution_count": 9,
      "outputs": [
        {
          "output_type": "execute_result",
          "data": {
            "text/plain": [
              "KruskalResult(statistic=3.725441202182227, pvalue=0.05358946830655459)"
            ]
          },
          "metadata": {
            "tags": []
          },
          "execution_count": 9
        }
      ]
    },
    {
      "cell_type": "code",
      "metadata": {
        "id": "ZBVTYiwlpT7k",
        "colab_type": "code",
        "colab": {
          "base_uri": "https://localhost:8080/",
          "height": 34
        },
        "outputId": "6c920bf4-5f34-4b61-e6c1-f3e4c86f05ea"
      },
      "source": [
        "# 3. Pick 3 or 4 of the countries in the sample and compare how often people met socially in 2014. Are there differences, and if so, which countries stand out?\n",
        "\n",
        "# How many countries are there?\n",
        "ess_2014['cntry'].unique()"
      ],
      "execution_count": 10,
      "outputs": [
        {
          "output_type": "execute_result",
          "data": {
            "text/plain": [
              "array(['CH', 'CZ', 'DE', 'ES', 'NO', 'SE'], dtype=object)"
            ]
          },
          "metadata": {
            "tags": []
          },
          "execution_count": 10
        }
      ]
    },
    {
      "cell_type": "code",
      "metadata": {
        "id": "urYjLy4XpT9v",
        "colab_type": "code",
        "colab": {
          "base_uri": "https://localhost:8080/",
          "height": 361
        },
        "outputId": "3eee28b6-d086-46cb-b736-ee4f8d623c40"
      },
      "source": [
        "# Pick CZ, DE and ES\n",
        "\n",
        "filter_list = ['CZ', 'DE', 'ES']\n",
        "ess_2014_cz_de_es = ess_2014[ess_2014['cntry'].isin(filter_list)]\n",
        "\n",
        "ess_2014_cz_de_es['cntry'].unique()\n",
        "\n",
        "ess_2014_cz_de_es['sclmeet'].hist(by = ess_2014_cz_de_es['cntry'])"
      ],
      "execution_count": 12,
      "outputs": [
        {
          "output_type": "execute_result",
          "data": {
            "text/plain": [
              "array([[<matplotlib.axes._subplots.AxesSubplot object at 0x7f53619e9f60>,\n",
              "        <matplotlib.axes._subplots.AxesSubplot object at 0x7f53619a1be0>],\n",
              "       [<matplotlib.axes._subplots.AxesSubplot object at 0x7f536195e1d0>,\n",
              "        <matplotlib.axes._subplots.AxesSubplot object at 0x7f536190e780>]],\n",
              "      dtype=object)"
            ]
          },
          "metadata": {
            "tags": []
          },
          "execution_count": 12
        },
        {
          "output_type": "display_data",
          "data": {
            "image/png": "[encoded data removed]",
            "text/plain": [
              "<Figure size 432x288 with 4 Axes>"
            ]
          },
          "metadata": {
            "tags": []
          }
        }
      ]
    },
    {
      "cell_type": "code",
      "metadata": {
        "id": "y5EKXWLRpUAH",
        "colab_type": "code",
        "colab": {
          "base_uri": "https://localhost:8080/",
          "height": 34
        },
        "outputId": "eeffd09b-0370-4f33-9f89-f0092be2cd41"
      },
      "source": [
        "\n",
        "# These are sparser samples of ordinal data\n",
        "# So nothing will be perfectly 'normal'\n",
        "# we will have to \"eyeball\" it\n",
        "# Kruskal Wallis test\n",
        "\n",
        "stats.kruskal(\n",
        "    ess_2014_cz_de_es.loc[ess_2014_cz_de_es['cntry'] == 'CZ',['sclmeet']],\n",
        "    ess_2014_cz_de_es.loc[ess_2014_cz_de_es['cntry'] == 'DE',['sclmeet']],\n",
        "    ess_2014_cz_de_es.loc[ess_2014_cz_de_es['cntry'] == 'ES',['sclmeet']])"
      ],
      "execution_count": 13,
      "outputs": [
        {
          "output_type": "execute_result",
          "data": {
            "text/plain": [
              "KruskalResult(statistic=120.72958033262947, pvalue=6.0800161031835895e-27)"
            ]
          },
          "metadata": {
            "tags": []
          },
          "execution_count": 13
        }
      ]
    },
    {
      "cell_type": "code",
      "metadata": {
        "id": "ulcsp493pUCY",
        "colab_type": "code",
        "colab": {
          "base_uri": "https://localhost:8080/",
          "height": 437
        },
        "outputId": "b25d02c8-d452-434f-f593-a09d1d97f10f"
      },
      "source": [
        "# It appears that not all medians are equal, so\n",
        "# Which one is the odd country out?\n",
        "# It seems that DE is the odd country out\n",
        "\n",
        "ess_2014_cz_de_es.boxplot('sclmeet', by='cntry', figsize=(10, 6))"
      ],
      "execution_count": 14,
      "outputs": [
        {
          "output_type": "execute_result",
          "data": {
            "text/plain": [
              "<matplotlib.axes._subplots.AxesSubplot at 0x7f5361feba90>"
            ]
          },
          "metadata": {
            "tags": []
          },
          "execution_count": 14
        },
        {
          "output_type": "display_data",
          "data": {
            "image/png": "[encoded data removed]",
            "text/plain": [
              "<Figure size 720x432 with 1 Axes>"
            ]
          },
          "metadata": {
            "tags": []
          }
        }
      ]
    },
    {
      "cell_type": "code",
      "metadata": {
        "id": "PwshMcaarv6v",
        "colab_type": "code",
        "colab": {
          "base_uri": "https://localhost:8080/",
          "height": 361
        },
        "outputId": "a978d5e1-b8cc-4bc7-ea11-5a55085e6250"
      },
      "source": [
        "# 4. Pick 3 or 4 of the countries in the sample and compare how often people took part in social activities, relative to others their age, in 2014.\n",
        "# Are there differences, and if so, which countries stand out?\n",
        "\n",
        "# Variable sclact\n",
        "# I will stick with the same countries as above\n",
        "\n",
        "ess_2014_cz_de_es['sclact'].hist(by = ess_2014_cz_de_es['cntry'])\n",
        "\n",
        "# These look a little more normal to me. \n",
        "# At least they are symmetrical.\n",
        "# So let's do a one-way ANOVA."
      ],
      "execution_count": 15,
      "outputs": [
        {
          "output_type": "execute_result",
          "data": {
            "text/plain": [
              "array([[<matplotlib.axes._subplots.AxesSubplot object at 0x7f536176f160>,\n",
              "        <matplotlib.axes._subplots.AxesSubplot object at 0x7f53616d7e80>],\n",
              "       [<matplotlib.axes._subplots.AxesSubplot object at 0x7f536168afd0>,\n",
              "        <matplotlib.axes._subplots.AxesSubplot object at 0x7f536164a358>]],\n",
              "      dtype=object)"
            ]
          },
          "metadata": {
            "tags": []
          },
          "execution_count": 15
        },
        {
          "output_type": "display_data",
          "data": {
            "image/png": "[encoded data removed]",
            "text/plain": [
              "<Figure size 432x288 with 4 Axes>"
            ]
          },
          "metadata": {
            "tags": []
          }
        }
      ]
    },
    {
      "cell_type": "code",
      "metadata": {
        "id": "WmyPnT67rwAC",
        "colab_type": "code",
        "colab": {
          "base_uri": "https://localhost:8080/",
          "height": 34
        },
        "outputId": "40b0659d-f312-43f1-e997-9f7e31108738"
      },
      "source": [
        "stats.f_oneway(\n",
        "    ess_2014_cz_de_es.loc[ess_2014_cz_de_es['cntry'] == 'CZ',['sclact']],\n",
        "    ess_2014_cz_de_es.loc[ess_2014_cz_de_es['cntry'] == 'DE',['sclact']],\n",
        "    ess_2014_cz_de_es.loc[ess_2014_cz_de_es['cntry'] == 'ES',['sclact']])\n",
        "\n",
        "# No significant difference in groups."
      ],
      "execution_count": 16,
      "outputs": [
        {
          "output_type": "execute_result",
          "data": {
            "text/plain": [
              "F_onewayResult(statistic=array([2.28963493]), pvalue=array([0.10160666]))"
            ]
          },
          "metadata": {
            "tags": []
          },
          "execution_count": 16
        }
      ]
    },
    {
      "cell_type": "code",
      "metadata": {
        "id": "Y95eq7jRrwCq",
        "colab_type": "code",
        "colab": {
          "base_uri": "https://localhost:8080/",
          "height": 120
        },
        "outputId": "d13922ab-0a42-49df-f6a7-484d30d6c740"
      },
      "source": [
        "# Let's check pairwise statistics with Tukey's HSD.\n",
        "\n",
        "from statsmodels.stats.multicomp import pairwise_tukeyhsd\n",
        "\n",
        "tukey = pairwise_tukeyhsd(endog = ess_2014_cz_de_es['sclact'],      # Data\n",
        "                          groups = ess_2014_cz_de_es['cntry'],   # Groups\n",
        "                          alpha=0.05) \n",
        "\n",
        "\n",
        "tukey.summary()"
      ],
      "execution_count": 17,
      "outputs": [
        {
          "output_type": "execute_result",
          "data": {
            "text/html": [
              "<table class=\"simpletable\">\n",
              "<caption>Multiple Comparison of Means - Tukey HSD, FWER=0.05</caption>\n",
              "<tr>\n",
              "  <th>group1</th> <th>group2</th> <th>meandiff</th>  <th>p-adj</th>  <th>lower</th>   <th>upper</th> <th>reject</th>\n",
              "</tr>\n",
              "<tr>\n",
              "    <td>CZ</td>     <td>DE</td>    <td>-0.0151</td>   <td>0.9</td>  <td>-0.5946</td> <td>0.5644</td>  <td>False</td>\n",
              "</tr>\n",
              "<tr>\n",
              "    <td>CZ</td>     <td>ES</td>    <td>-0.098</td>  <td>0.0841</td> <td>-0.2058</td> <td>0.0099</td>  <td>False</td>\n",
              "</tr>\n",
              "<tr>\n",
              "    <td>DE</td>     <td>ES</td>    <td>-0.0829</td>   <td>0.9</td>  <td>-0.6594</td> <td>0.4936</td>  <td>False</td>\n",
              "</tr>\n",
              "</table>"
            ],
            "text/plain": [
              "<class 'statsmodels.iolib.table.SimpleTable'>"
            ]
          },
          "metadata": {
            "tags": []
          },
          "execution_count": 17
        }
      ]
    },
    {
      "cell_type": "code",
      "metadata": {
        "id": "Ne3NwfcHrwFB",
        "colab_type": "code",
        "colab": {
          "base_uri": "https://localhost:8080/",
          "height": 204
        },
        "outputId": "27798ac1-abad-4d17-d78b-4f02da1a08bf"
      },
      "source": [
        "# Ruff Figural Fluency Test\n",
        "\n",
        "# https://www.parinc.com/Products/Pkey/360\n",
        "# https://datadryad.org/resource/doi:10.5061/dryad.rr138\n",
        "\n",
        "%matplotlib inline\n",
        "import pandas as pd\n",
        "import numpy as np\n",
        "import matplotlib.pyplot as plt\n",
        "from scipy import stats\n",
        "\n",
        "rfft = pd.read_csv(\"https://tf-assets-prod.s3.amazonaws.com/tf-curric/data-science/rfft.csv\")\n",
        "rfft.head()"
      ],
      "execution_count": 18,
      "outputs": [
        {
          "output_type": "execute_result",
          "data": {
            "text/html": [
              "<div>\n",
              "<style scoped>\n",
              "    .dataframe tbody tr th:only-of-type {\n",
              "        vertical-align: middle;\n",
              "    }\n",
              "\n",
              "    .dataframe tbody tr th {\n",
              "        vertical-align: top;\n",
              "    }\n",
              "\n",
              "    .dataframe thead th {\n",
              "        text-align: right;\n",
              "    }\n",
              "</style>\n",
              "<table border=\"1\" class=\"dataframe\">\n",
              "  <thead>\n",
              "    <tr style=\"text-align: right;\">\n",
              "      <th></th>\n",
              "      <th>Casenr</th>\n",
              "      <th>Age</th>\n",
              "      <th>Gender</th>\n",
              "      <th>Education</th>\n",
              "      <th>Measurement</th>\n",
              "      <th>Unique</th>\n",
              "      <th>Perseverative</th>\n",
              "      <th>Interval</th>\n",
              "    </tr>\n",
              "  </thead>\n",
              "  <tbody>\n",
              "    <tr>\n",
              "      <th>0</th>\n",
              "      <td>1</td>\n",
              "      <td>74</td>\n",
              "      <td>Male</td>\n",
              "      <td>Lower secondary school (ISCED 2)</td>\n",
              "      <td>Measurement 1 (2003-2006)</td>\n",
              "      <td>32.0</td>\n",
              "      <td>1.0</td>\n",
              "      <td>Not applicable</td>\n",
              "    </tr>\n",
              "    <tr>\n",
              "      <th>1</th>\n",
              "      <td>1</td>\n",
              "      <td>74</td>\n",
              "      <td>Male</td>\n",
              "      <td>Lower secondary school (ISCED 2)</td>\n",
              "      <td>Measurement 2 (2006-2008)</td>\n",
              "      <td>35.0</td>\n",
              "      <td>0.0</td>\n",
              "      <td>2.842122556</td>\n",
              "    </tr>\n",
              "    <tr>\n",
              "      <th>2</th>\n",
              "      <td>1</td>\n",
              "      <td>74</td>\n",
              "      <td>Male</td>\n",
              "      <td>Lower secondary school (ISCED 2)</td>\n",
              "      <td>Measurement 3 (2008-2012)</td>\n",
              "      <td>50.5</td>\n",
              "      <td>14.5</td>\n",
              "      <td>2.201232033</td>\n",
              "    </tr>\n",
              "    <tr>\n",
              "      <th>3</th>\n",
              "      <td>2</td>\n",
              "      <td>48</td>\n",
              "      <td>Male</td>\n",
              "      <td>Higher secondary school (ISCED 3-4)</td>\n",
              "      <td>Measurement 1 (2003-2006)</td>\n",
              "      <td>26.0</td>\n",
              "      <td>3.0</td>\n",
              "      <td>Not applicable</td>\n",
              "    </tr>\n",
              "    <tr>\n",
              "      <th>4</th>\n",
              "      <td>2</td>\n",
              "      <td>48</td>\n",
              "      <td>Male</td>\n",
              "      <td>Higher secondary school (ISCED 3-4)</td>\n",
              "      <td>Measurement 2 (2006-2008)</td>\n",
              "      <td>47.0</td>\n",
              "      <td>3.0</td>\n",
              "      <td>2.762718362</td>\n",
              "    </tr>\n",
              "  </tbody>\n",
              "</table>\n",
              "</div>"
            ],
            "text/plain": [
              "   Casenr  Age Gender  ... Unique Perseverative        Interval\n",
              "0       1   74   Male  ...   32.0           1.0  Not applicable\n",
              "1       1   74   Male  ...   35.0           0.0     2.842122556\n",
              "2       1   74   Male  ...   50.5          14.5     2.201232033\n",
              "3       2   48   Male  ...   26.0           3.0  Not applicable\n",
              "4       2   48   Male  ...   47.0           3.0     2.762718362\n",
              "\n",
              "[5 rows x 8 columns]"
            ]
          },
          "metadata": {
            "tags": []
          },
          "execution_count": 18
        }
      ]
    },
    {
      "cell_type": "code",
      "metadata": {
        "id": "KICJXsBGsXW_",
        "colab_type": "code",
        "colab": {
          "base_uri": "https://localhost:8080/",
          "height": 235
        },
        "outputId": "8e9e8be3-fc49-40ce-de08-80be7e042ca1"
      },
      "source": [
        "# 1. Is there a significant difference in the number of unique designs drawn by the same participants from Measurement 2 to Measurement 3?\n",
        "\n",
        "# To ease in our analysis let's pivot the data.\n",
        "\n",
        "rfft_unique = rfft.pivot(index='Casenr', columns='Measurement', values='Unique')\n",
        "rfft_unique.head()"
      ],
      "execution_count": 19,
      "outputs": [
        {
          "output_type": "execute_result",
          "data": {
            "text/html": [
              "<div>\n",
              "<style scoped>\n",
              "    .dataframe tbody tr th:only-of-type {\n",
              "        vertical-align: middle;\n",
              "    }\n",
              "\n",
              "    .dataframe tbody tr th {\n",
              "        vertical-align: top;\n",
              "    }\n",
              "\n",
              "    .dataframe thead th {\n",
              "        text-align: right;\n",
              "    }\n",
              "</style>\n",
              "<table border=\"1\" class=\"dataframe\">\n",
              "  <thead>\n",
              "    <tr style=\"text-align: right;\">\n",
              "      <th>Measurement</th>\n",
              "      <th>Measurement 1 (2003-2006)</th>\n",
              "      <th>Measurement 2 (2006-2008)</th>\n",
              "      <th>Measurement 3 (2008-2012)</th>\n",
              "    </tr>\n",
              "    <tr>\n",
              "      <th>Casenr</th>\n",
              "      <th></th>\n",
              "      <th></th>\n",
              "      <th></th>\n",
              "    </tr>\n",
              "  </thead>\n",
              "  <tbody>\n",
              "    <tr>\n",
              "      <th>1</th>\n",
              "      <td>32.0</td>\n",
              "      <td>35.0</td>\n",
              "      <td>50.5</td>\n",
              "    </tr>\n",
              "    <tr>\n",
              "      <th>2</th>\n",
              "      <td>26.0</td>\n",
              "      <td>47.0</td>\n",
              "      <td>71.0</td>\n",
              "    </tr>\n",
              "    <tr>\n",
              "      <th>3</th>\n",
              "      <td>91.0</td>\n",
              "      <td>83.5</td>\n",
              "      <td>77.0</td>\n",
              "    </tr>\n",
              "    <tr>\n",
              "      <th>4</th>\n",
              "      <td>59.0</td>\n",
              "      <td>54.0</td>\n",
              "      <td>64.0</td>\n",
              "    </tr>\n",
              "    <tr>\n",
              "      <th>5</th>\n",
              "      <td>60.0</td>\n",
              "      <td>68.0</td>\n",
              "      <td>21.0</td>\n",
              "    </tr>\n",
              "  </tbody>\n",
              "</table>\n",
              "</div>"
            ],
            "text/plain": [
              "Measurement  Measurement 1 (2003-2006)  ...  Measurement 3 (2008-2012)\n",
              "Casenr                                  ...                           \n",
              "1                                 32.0  ...                       50.5\n",
              "2                                 26.0  ...                       71.0\n",
              "3                                 91.0  ...                       77.0\n",
              "4                                 59.0  ...                       64.0\n",
              "5                                 60.0  ...                       21.0\n",
              "\n",
              "[5 rows x 3 columns]"
            ]
          },
          "metadata": {
            "tags": []
          },
          "execution_count": 19
        }
      ]
    },
    {
      "cell_type": "code",
      "metadata": {
        "id": "O9k3Kpz8sXUZ",
        "colab_type": "code",
        "colab": {
          "base_uri": "https://localhost:8080/",
          "height": 282
        },
        "outputId": "fd50cd46-f284-4467-ffd9-0e52d1a7f585"
      },
      "source": [
        "# The differences appear normally distributed.\n",
        "# So we ill use a paired t-test.\n",
        "\n",
        "plt.hist(rfft_unique['Measurement 3 (2008-2012)'] - rfft_unique['Measurement 2 (2006-2008)'])\n",
        "print(stats.describe(rfft_unique['Measurement 3 (2008-2012)'] - rfft_unique['Measurement 2 (2006-2008)']))"
      ],
      "execution_count": 20,
      "outputs": [
        {
          "output_type": "stream",
          "text": [
            "DescribeResult(nobs=2515, minmax=(-75.5, 68.5), mean=4.015506958250497, variance=342.2368318331855, skewness=-0.15837265462838976, kurtosis=0.7823714353134701)\n"
          ],
          "name": "stdout"
        },
        {
          "output_type": "display_data",
          "data": {
            "image/png": "[encoded data removed]",
            "text/plain": [
              "<Figure size 432x288 with 1 Axes>"
            ]
          },
          "metadata": {
            "tags": []
          }
        }
      ]
    },
    {
      "cell_type": "code",
      "metadata": {
        "id": "lBxLxD8KpUEp",
        "colab_type": "code",
        "colab": {
          "base_uri": "https://localhost:8080/",
          "height": 34
        },
        "outputId": "8ad60cf8-8f17-43fa-aa70-ac05b3953b11"
      },
      "source": [
        "stats.ttest_rel(rfft_unique['Measurement 3 (2008-2012)'], rfft_unique['Measurement 2 (2006-2008)'])\n",
        "\n",
        "# Yes, there appears to be a significant difference between unique designs by the same participants between Measurement 2 and 3."
      ],
      "execution_count": 21,
      "outputs": [
        {
          "output_type": "execute_result",
          "data": {
            "text/plain": [
              "Ttest_relResult(statistic=10.88544039426271, pvalue=5.3585747477799544e-27)"
            ]
          },
          "metadata": {
            "tags": []
          },
          "execution_count": 21
        }
      ]
    },
    {
      "cell_type": "code",
      "metadata": {
        "id": "HUW__wH3pUG0",
        "colab_type": "code",
        "colab": {
          "base_uri": "https://localhost:8080/",
          "height": 235
        },
        "outputId": "b0cea2dd-2f88-43e5-f491-f745409d7680"
      },
      "source": [
        "# 2. Is there a significant difference in the number of perseverative erros drawn by the same participants from Measurement 2 to Measurement 3?\n",
        "\n",
        "# Again, let's pivot the data\n",
        "\n",
        "rfft_persev = rfft.pivot(index='Casenr', columns='Measurement', values='Perseverative')\n",
        "rfft_persev.head()"
      ],
      "execution_count": 22,
      "outputs": [
        {
          "output_type": "execute_result",
          "data": {
            "text/html": [
              "<div>\n",
              "<style scoped>\n",
              "    .dataframe tbody tr th:only-of-type {\n",
              "        vertical-align: middle;\n",
              "    }\n",
              "\n",
              "    .dataframe tbody tr th {\n",
              "        vertical-align: top;\n",
              "    }\n",
              "\n",
              "    .dataframe thead th {\n",
              "        text-align: right;\n",
              "    }\n",
              "</style>\n",
              "<table border=\"1\" class=\"dataframe\">\n",
              "  <thead>\n",
              "    <tr style=\"text-align: right;\">\n",
              "      <th>Measurement</th>\n",
              "      <th>Measurement 1 (2003-2006)</th>\n",
              "      <th>Measurement 2 (2006-2008)</th>\n",
              "      <th>Measurement 3 (2008-2012)</th>\n",
              "    </tr>\n",
              "    <tr>\n",
              "      <th>Casenr</th>\n",
              "      <th></th>\n",
              "      <th></th>\n",
              "      <th></th>\n",
              "    </tr>\n",
              "  </thead>\n",
              "  <tbody>\n",
              "    <tr>\n",
              "      <th>1</th>\n",
              "      <td>1.0</td>\n",
              "      <td>0.0</td>\n",
              "      <td>14.5</td>\n",
              "    </tr>\n",
              "    <tr>\n",
              "      <th>2</th>\n",
              "      <td>3.0</td>\n",
              "      <td>3.0</td>\n",
              "      <td>0.5</td>\n",
              "    </tr>\n",
              "    <tr>\n",
              "      <th>3</th>\n",
              "      <td>11.0</td>\n",
              "      <td>21.0</td>\n",
              "      <td>17.0</td>\n",
              "    </tr>\n",
              "    <tr>\n",
              "      <th>4</th>\n",
              "      <td>49.0</td>\n",
              "      <td>39.0</td>\n",
              "      <td>11.0</td>\n",
              "    </tr>\n",
              "    <tr>\n",
              "      <th>5</th>\n",
              "      <td>14.0</td>\n",
              "      <td>16.0</td>\n",
              "      <td>0.0</td>\n",
              "    </tr>\n",
              "  </tbody>\n",
              "</table>\n",
              "</div>"
            ],
            "text/plain": [
              "Measurement  Measurement 1 (2003-2006)  ...  Measurement 3 (2008-2012)\n",
              "Casenr                                  ...                           \n",
              "1                                  1.0  ...                       14.5\n",
              "2                                  3.0  ...                        0.5\n",
              "3                                 11.0  ...                       17.0\n",
              "4                                 49.0  ...                       11.0\n",
              "5                                 14.0  ...                        0.0\n",
              "\n",
              "[5 rows x 3 columns]"
            ]
          },
          "metadata": {
            "tags": []
          },
          "execution_count": 22
        }
      ]
    },
    {
      "cell_type": "code",
      "metadata": {
        "id": "c4waI_8DpUJE",
        "colab_type": "code",
        "colab": {
          "base_uri": "https://localhost:8080/",
          "height": 350
        },
        "outputId": "6f48a8a2-1df6-4125-c0d1-331f93d6ba3e"
      },
      "source": [
        "# Looks quite non-normal, so we'll use Wilcoxon\n",
        "\n",
        "plt.hist(rfft_persev['Measurement 3 (2008-2012)'], alpha = .5)\n",
        "plt.hist(rfft_persev['Measurement 2 (2006-2008)'], alpha = .5)"
      ],
      "execution_count": 23,
      "outputs": [
        {
          "output_type": "execute_result",
          "data": {
            "text/plain": [
              "(array([1.821e+03, 4.560e+02, 1.210e+02, 5.200e+01, 2.800e+01, 1.600e+01,\n",
              "        1.300e+01, 3.000e+00, 4.000e+00, 1.000e+00]),\n",
              " array([  0.  ,  13.35,  26.7 ,  40.05,  53.4 ,  66.75,  80.1 ,  93.45,\n",
              "        106.8 , 120.15, 133.5 ]),\n",
              " <a list of 10 Patch objects>)"
            ]
          },
          "metadata": {
            "tags": []
          },
          "execution_count": 23
        },
        {
          "output_type": "display_data",
          "data": {
            "image/png": "[encoded data removed]",
            "text/plain": [
              "<Figure size 432x288 with 1 Axes>"
            ]
          },
          "metadata": {
            "tags": []
          }
        }
      ]
    },
    {
      "cell_type": "code",
      "metadata": {
        "id": "meToPCKOpULW",
        "colab_type": "code",
        "colab": {
          "base_uri": "https://localhost:8080/",
          "height": 34
        },
        "outputId": "7dc5cc3d-fd40-4f0f-8e26-f3f703721602"
      },
      "source": [
        "# Reject the null, there is a significant difference between perseverative errors\n",
        "# from the same participants at Measurements 2 and 3\n",
        "\n",
        "stats.wilcoxon(rfft_persev['Measurement 3 (2008-2012)'], rfft_persev['Measurement 2 (2006-2008)'])"
      ],
      "execution_count": 24,
      "outputs": [
        {
          "output_type": "execute_result",
          "data": {
            "text/plain": [
              "WilcoxonResult(statistic=1358373.0, pvalue=0.0006927535563546565)"
            ]
          },
          "metadata": {
            "tags": []
          },
          "execution_count": 24
        }
      ]
    }
  ]
}